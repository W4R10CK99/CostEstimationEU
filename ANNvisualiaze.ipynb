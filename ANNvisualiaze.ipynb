{
 "cells": [
  {
   "cell_type": "code",
   "execution_count": 1,
   "id": "de235169",
   "metadata": {},
   "outputs": [],
   "source": [
    "import tensorflow as tf\n",
    "from tensorflow.keras.models import Model\n",
    "from tensorflow.keras.layers import Input, Dense, Embedding, Flatten, concatenate"
   ]
  },
  {
   "cell_type": "code",
   "execution_count": 2,
   "id": "12768f7e",
   "metadata": {},
   "outputs": [],
   "source": [
    "import pandas as pd"
   ]
  },
  {
   "cell_type": "code",
   "execution_count": 3,
   "id": "238abf36",
   "metadata": {},
   "outputs": [],
   "source": [
    "df = pd.read_csv('dataset/yearRecord.csv')"
   ]
  },
  {
   "cell_type": "code",
   "execution_count": 4,
   "id": "3fc78382",
   "metadata": {},
   "outputs": [
    {
     "data": {
      "text/html": [
       "<div>\n",
       "<style scoped>\n",
       "    .dataframe tbody tr th:only-of-type {\n",
       "        vertical-align: middle;\n",
       "    }\n",
       "\n",
       "    .dataframe tbody tr th {\n",
       "        vertical-align: top;\n",
       "    }\n",
       "\n",
       "    .dataframe thead th {\n",
       "        text-align: right;\n",
       "    }\n",
       "</style>\n",
       "<table border=\"1\" class=\"dataframe\">\n",
       "  <thead>\n",
       "    <tr style=\"text-align: right;\">\n",
       "      <th></th>\n",
       "      <th>AssetTypeID</th>\n",
       "      <th>AssetType</th>\n",
       "      <th>YearsAfterInstallation</th>\n",
       "      <th>WorkDescription</th>\n",
       "      <th>Spend_ExGST</th>\n",
       "    </tr>\n",
       "  </thead>\n",
       "  <tbody>\n",
       "    <tr>\n",
       "      <th>0</th>\n",
       "      <td>89</td>\n",
       "      <td>DUCTED SPLIT SYSTEM</td>\n",
       "      <td>25.0</td>\n",
       "      <td>Ex Taste of Korea AC reactive</td>\n",
       "      <td>0.0</td>\n",
       "    </tr>\n",
       "    <tr>\n",
       "      <th>1</th>\n",
       "      <td>10</td>\n",
       "      <td>AIR FAN - EXHAUST</td>\n",
       "      <td>4.0</td>\n",
       "      <td>General exhaust fan isolator i</td>\n",
       "      <td>0.0</td>\n",
       "    </tr>\n",
       "    <tr>\n",
       "      <th>2</th>\n",
       "      <td>10</td>\n",
       "      <td>AIR FAN - EXHAUST</td>\n",
       "      <td>4.0</td>\n",
       "      <td>General exhaust fan isolator i</td>\n",
       "      <td>0.0</td>\n",
       "    </tr>\n",
       "    <tr>\n",
       "      <th>3</th>\n",
       "      <td>89</td>\n",
       "      <td>DUCTED SPLIT SYSTEM</td>\n",
       "      <td>20.0</td>\n",
       "      <td>LG- Heat Pump NO# 2 Repairs</td>\n",
       "      <td>0.0</td>\n",
       "    </tr>\n",
       "    <tr>\n",
       "      <th>4</th>\n",
       "      <td>89</td>\n",
       "      <td>DUCTED SPLIT SYSTEM</td>\n",
       "      <td>19.0</td>\n",
       "      <td>L17 Quorom Comms. Room PCB Rep</td>\n",
       "      <td>0.0</td>\n",
       "    </tr>\n",
       "  </tbody>\n",
       "</table>\n",
       "</div>"
      ],
      "text/plain": [
       "   AssetTypeID            AssetType  YearsAfterInstallation  \\\n",
       "0           89  DUCTED SPLIT SYSTEM                    25.0   \n",
       "1           10    AIR FAN - EXHAUST                     4.0   \n",
       "2           10    AIR FAN - EXHAUST                     4.0   \n",
       "3           89  DUCTED SPLIT SYSTEM                    20.0   \n",
       "4           89  DUCTED SPLIT SYSTEM                    19.0   \n",
       "\n",
       "                  WorkDescription  Spend_ExGST  \n",
       "0   Ex Taste of Korea AC reactive          0.0  \n",
       "1  General exhaust fan isolator i          0.0  \n",
       "2  General exhaust fan isolator i          0.0  \n",
       "3     LG- Heat Pump NO# 2 Repairs          0.0  \n",
       "4  L17 Quorom Comms. Room PCB Rep          0.0  "
      ]
     },
     "execution_count": 4,
     "metadata": {},
     "output_type": "execute_result"
    }
   ],
   "source": [
    "df.head()"
   ]
  },
  {
   "cell_type": "code",
   "execution_count": 5,
   "id": "2cbb2fc4",
   "metadata": {},
   "outputs": [],
   "source": [
    "X = df[['AssetType','YearsAfterInstallation']]\n",
    "Y = df[['WorkDescription','Spend_ExGST']]"
   ]
  },
  {
   "cell_type": "code",
   "execution_count": 6,
   "id": "683190f1",
   "metadata": {},
   "outputs": [],
   "source": [
    "num_unique_asset_types = X['AssetType'].nunique()"
   ]
  },
  {
   "cell_type": "code",
   "execution_count": 7,
   "id": "c523821f",
   "metadata": {},
   "outputs": [],
   "source": [
    "num_unique_years = X['YearsAfterInstallation'].nunique()"
   ]
  },
  {
   "cell_type": "code",
   "execution_count": 9,
   "id": "9e07183a",
   "metadata": {},
   "outputs": [],
   "source": [
    "# Input layer for categorical variables\n",
    "asset_type_input = Input(shape=(1,), name='asset_type_input')\n",
    "year_input = Input(shape=(1,), name='year_input')"
   ]
  },
  {
   "cell_type": "code",
   "execution_count": 14,
   "id": "0bbd881a",
   "metadata": {},
   "outputs": [],
   "source": [
    "embedding_dim = 10  # You can adjust this based on your preference\n",
    "num_unique_work_descriptions = Y['WorkDescription'].nunique()"
   ]
  },
  {
   "cell_type": "code",
   "execution_count": 18,
   "id": "9c5a8839",
   "metadata": {},
   "outputs": [
    {
     "ename": "ValueError",
     "evalue": "'DUCTED SPLIT SYSTEM/' is not a valid root scope name. A root scope name has to match the following pattern: ^[A-Za-z0-9.][A-Za-z0-9_.\\\\/>-]*$",
     "output_type": "error",
     "traceback": [
      "\u001b[1;31m---------------------------------------------------------------------------\u001b[0m",
      "\u001b[1;31mValueError\u001b[0m                                Traceback (most recent call last)",
      "\u001b[1;32m~\\AppData\\Local\\Temp\\ipykernel_10272\\4000672660.py\u001b[0m in \u001b[0;36m<module>\u001b[1;34m\u001b[0m\n\u001b[0;32m     21\u001b[0m     \u001b[1;31m# Spend_ExGST prediction branch\u001b[0m\u001b[1;33m\u001b[0m\u001b[1;33m\u001b[0m\u001b[0m\n\u001b[0;32m     22\u001b[0m     \u001b[0mspend_branch\u001b[0m \u001b[1;33m=\u001b[0m \u001b[0mDense\u001b[0m\u001b[1;33m(\u001b[0m\u001b[1;36m128\u001b[0m\u001b[1;33m,\u001b[0m \u001b[0mactivation\u001b[0m\u001b[1;33m=\u001b[0m\u001b[1;34m'relu'\u001b[0m\u001b[1;33m)\u001b[0m\u001b[1;33m(\u001b[0m\u001b[0mshared_dense\u001b[0m\u001b[1;33m)\u001b[0m\u001b[1;33m\u001b[0m\u001b[1;33m\u001b[0m\u001b[0m\n\u001b[1;32m---> 23\u001b[1;33m     \u001b[0mspend_output\u001b[0m \u001b[1;33m=\u001b[0m \u001b[0mDense\u001b[0m\u001b[1;33m(\u001b[0m\u001b[1;36m1\u001b[0m\u001b[1;33m,\u001b[0m \u001b[0mactivation\u001b[0m\u001b[1;33m=\u001b[0m\u001b[1;34m'linear'\u001b[0m\u001b[1;33m,\u001b[0m \u001b[0mname\u001b[0m\u001b[1;33m=\u001b[0m\u001b[1;34mf'{asset_type}'\u001b[0m\u001b[1;33m)\u001b[0m\u001b[1;33m(\u001b[0m\u001b[0mspend_branch\u001b[0m\u001b[1;33m)\u001b[0m\u001b[1;33m\u001b[0m\u001b[1;33m\u001b[0m\u001b[0m\n\u001b[0m\u001b[0;32m     24\u001b[0m \u001b[1;33m\u001b[0m\u001b[0m\n\u001b[0;32m     25\u001b[0m     \u001b[1;31m# Create the model for each Asset Type\u001b[0m\u001b[1;33m\u001b[0m\u001b[1;33m\u001b[0m\u001b[0m\n",
      "\u001b[1;32mC:\\ML\\lib\\site-packages\\keras\\src\\utils\\traceback_utils.py\u001b[0m in \u001b[0;36merror_handler\u001b[1;34m(*args, **kwargs)\u001b[0m\n\u001b[0;32m     68\u001b[0m             \u001b[1;31m# To get the full stack trace, call:\u001b[0m\u001b[1;33m\u001b[0m\u001b[1;33m\u001b[0m\u001b[0m\n\u001b[0;32m     69\u001b[0m             \u001b[1;31m# `tf.debugging.disable_traceback_filtering()`\u001b[0m\u001b[1;33m\u001b[0m\u001b[1;33m\u001b[0m\u001b[0m\n\u001b[1;32m---> 70\u001b[1;33m             \u001b[1;32mraise\u001b[0m \u001b[0me\u001b[0m\u001b[1;33m.\u001b[0m\u001b[0mwith_traceback\u001b[0m\u001b[1;33m(\u001b[0m\u001b[0mfiltered_tb\u001b[0m\u001b[1;33m)\u001b[0m \u001b[1;32mfrom\u001b[0m \u001b[1;32mNone\u001b[0m\u001b[1;33m\u001b[0m\u001b[1;33m\u001b[0m\u001b[0m\n\u001b[0m\u001b[0;32m     71\u001b[0m         \u001b[1;32mfinally\u001b[0m\u001b[1;33m:\u001b[0m\u001b[1;33m\u001b[0m\u001b[1;33m\u001b[0m\u001b[0m\n\u001b[0;32m     72\u001b[0m             \u001b[1;32mdel\u001b[0m \u001b[0mfiltered_tb\u001b[0m\u001b[1;33m\u001b[0m\u001b[1;33m\u001b[0m\u001b[0m\n",
      "\u001b[1;32mC:\\ML\\lib\\contextlib.py\u001b[0m in \u001b[0;36m__enter__\u001b[1;34m(self)\u001b[0m\n\u001b[0;32m    117\u001b[0m         \u001b[1;32mdel\u001b[0m \u001b[0mself\u001b[0m\u001b[1;33m.\u001b[0m\u001b[0margs\u001b[0m\u001b[1;33m,\u001b[0m \u001b[0mself\u001b[0m\u001b[1;33m.\u001b[0m\u001b[0mkwds\u001b[0m\u001b[1;33m,\u001b[0m \u001b[0mself\u001b[0m\u001b[1;33m.\u001b[0m\u001b[0mfunc\u001b[0m\u001b[1;33m\u001b[0m\u001b[1;33m\u001b[0m\u001b[0m\n\u001b[0;32m    118\u001b[0m         \u001b[1;32mtry\u001b[0m\u001b[1;33m:\u001b[0m\u001b[1;33m\u001b[0m\u001b[1;33m\u001b[0m\u001b[0m\n\u001b[1;32m--> 119\u001b[1;33m             \u001b[1;32mreturn\u001b[0m \u001b[0mnext\u001b[0m\u001b[1;33m(\u001b[0m\u001b[0mself\u001b[0m\u001b[1;33m.\u001b[0m\u001b[0mgen\u001b[0m\u001b[1;33m)\u001b[0m\u001b[1;33m\u001b[0m\u001b[1;33m\u001b[0m\u001b[0m\n\u001b[0m\u001b[0;32m    120\u001b[0m         \u001b[1;32mexcept\u001b[0m \u001b[0mStopIteration\u001b[0m\u001b[1;33m:\u001b[0m\u001b[1;33m\u001b[0m\u001b[1;33m\u001b[0m\u001b[0m\n\u001b[0;32m    121\u001b[0m             \u001b[1;32mraise\u001b[0m \u001b[0mRuntimeError\u001b[0m\u001b[1;33m(\u001b[0m\u001b[1;34m\"generator didn't yield\"\u001b[0m\u001b[1;33m)\u001b[0m \u001b[1;32mfrom\u001b[0m \u001b[1;32mNone\u001b[0m\u001b[1;33m\u001b[0m\u001b[1;33m\u001b[0m\u001b[0m\n",
      "\u001b[1;31mValueError\u001b[0m: 'DUCTED SPLIT SYSTEM/' is not a valid root scope name. A root scope name has to match the following pattern: ^[A-Za-z0-9.][A-Za-z0-9_.\\\\/>-]*$"
     ]
    }
   ],
   "source": [
    "asset_type_branches = []\n",
    "for asset_type in X['AssetType'].unique():\n",
    "    # Filtering data for the specific Asset Type\n",
    "    filtered_data = X[X['AssetType'] == asset_type]\n",
    "\n",
    "    # Creating separate branches\n",
    "    asset_type_embedding = Embedding(input_dim=num_unique_asset_types, output_dim=embedding_dim)(asset_type_input)\n",
    "    year_embedding = Embedding(input_dim=num_unique_years, output_dim=embedding_dim)(year_input)\n",
    "    asset_type_flatten = Flatten()(asset_type_embedding)\n",
    "    year_flatten = Flatten()(year_embedding)\n",
    "\n",
    "    # Concatenate with other features\n",
    "    concatenated_inputs = concatenate([asset_type_flatten, year_flatten])\n",
    "\n",
    "    # Shared layers\n",
    "    shared_dense = Dense(128, activation='relu')(concatenated_inputs)\n",
    "\n",
    "    # WorkDescription prediction branch\n",
    "    cleaned_asset_type = asset_type.replace(' ', '_')  # Replace spaces with underscores\n",
    "    work_description_output = Dense(num_unique_work_descriptions, activation='softmax', name=f'{cleaned_asset_type}')(work_description_branch)\n",
    "    # Spend_ExGST prediction branch\n",
    "    spend_branch = Dense(128, activation='relu')(shared_dense)\n",
    "    spend_output = Dense(1, activation='linear', name=f'{asset_type}')(spend_branch)\n",
    "\n",
    "    # Create the model for each Asset Type\n",
    "    model = Model(inputs=[asset_type_input, year_input], outputs=[work_description_output, spend_output])\n",
    "    asset_type_branches.append(model)"
   ]
  },
  {
   "cell_type": "code",
   "execution_count": null,
   "id": "a8371689",
   "metadata": {},
   "outputs": [],
   "source": []
  }
 ],
 "metadata": {
  "kernelspec": {
   "display_name": "Python 3 (ipykernel)",
   "language": "python",
   "name": "python3"
  },
  "language_info": {
   "codemirror_mode": {
    "name": "ipython",
    "version": 3
   },
   "file_extension": ".py",
   "mimetype": "text/x-python",
   "name": "python",
   "nbconvert_exporter": "python",
   "pygments_lexer": "ipython3",
   "version": "3.9.13"
  }
 },
 "nbformat": 4,
 "nbformat_minor": 5
}
